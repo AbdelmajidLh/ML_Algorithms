{
 "cells": [
  {
   "cell_type": "markdown",
   "id": "f0f7c552",
   "metadata": {},
   "source": [
    "# Projet : *California Housing Prices* (Prix des logements en Californie)"
   ]
  },
  {
   "cell_type": "markdown",
   "id": "92abb72d",
   "metadata": {},
   "source": [
    "## Contexte & Data"
   ]
  },
  {
   "cell_type": "markdown",
   "id": "4b5e7196",
   "metadata": {},
   "source": [
    "Nous utilisons le jeu de données California Housing Prices de l'entrepôt StatLib. Ces données proviennent du recensement californien de 1990 (bien sûr, elles ne sont pas actuelles)."
   ]
  },
  {
   "cell_type": "markdown",
   "id": "2c32cdd7",
   "metadata": {},
   "source": [
    "## Prendre du recul sur l'ensemble"
   ]
  },
  {
   "cell_type": "markdown",
   "id": "4d7468f2",
   "metadata": {},
   "source": [
    "La mission consiste à construire un modèle (Modèle d'apprentissage automatique; *Machine learning* ou ML) des prix immobiliers en Californie en se basant sur les données du recensement (par exemple : population, revenu, prix médian des habitations pour chaque bloc de 600 à 3000 personnes, également appelé \"distinct\").\n",
    "\n",
    "Le modèle doit être capable de prédire le prix médian des habitations dans chaque **distinct** en fonction des autres variables."
   ]
  },
  {
   "cell_type": "markdown",
   "id": "c115db53",
   "metadata": {},
   "source": [
    "### 1. Cerner le problème"
   ]
  },
  {
   "cell_type": "markdown",
   "id": "867e68df",
   "metadata": {},
   "source": [
    "Les questions à se poser :\n",
    "- Quel est l'objectif fonctionnel ?\n",
    "- Comment l'entreprise compte-t-elle utiliser ce modèle et en tirer parti ?\n",
    "\n",
    "Dans notre cas, la sortie du modèle (prédiction du prix médian des habitations dans un distinct) servira à alimenter un autre système ML. Ce système en aval utilisera les résultats de notre modèle (avec d'autres signaux) pour déterminer s'il est intéressant ou non d'investir dans un distinct donné (Analyse financière avant investissement). La prédiction va impacter le chiffre d'affaires (CA) de l'entreprise."
   ]
  },
  {
   "cell_type": "code",
   "execution_count": null,
   "id": "2f4d2e16",
   "metadata": {},
   "outputs": [],
   "source": []
  }
 ],
 "metadata": {
  "kernelspec": {
   "display_name": "Python 3 (ipykernel)",
   "language": "python",
   "name": "python3"
  },
  "language_info": {
   "codemirror_mode": {
    "name": "ipython",
    "version": 3
   },
   "file_extension": ".py",
   "mimetype": "text/x-python",
   "name": "python",
   "nbconvert_exporter": "python",
   "pygments_lexer": "ipython3",
   "version": "3.9.13"
  }
 },
 "nbformat": 4,
 "nbformat_minor": 5
}
