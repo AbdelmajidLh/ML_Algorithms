{
 "cells": [
  {
   "cell_type": "markdown",
   "id": "0b2c88e5",
   "metadata": {},
   "source": [
    "# Projet : *California Housing Prices* (Prix des logements en Californie)"
   ]
  },
  {
   "cell_type": "code",
   "execution_count": 1,
   "id": "05f0eb2a",
   "metadata": {},
   "outputs": [],
   "source": [
    "# pour utiliser des formules mathématiques en markdown\n",
    "#!pip install -U sympy"
   ]
  },
  {
   "cell_type": "markdown",
   "id": "c73d8a0d",
   "metadata": {},
   "source": [
    "## Contexte & Data"
   ]
  },
  {
   "cell_type": "markdown",
   "id": "d81031e1",
   "metadata": {},
   "source": [
    "Nous utilisons le jeu de données California Housing Prices de l'entrepôt StatLib. Ces données proviennent du recensement californien de 1990 (bien sûr, elles ne sont pas actuelles)."
   ]
  },
  {
   "cell_type": "markdown",
   "id": "14cd6590",
   "metadata": {},
   "source": [
    "## Prendre du recul sur l'ensemble"
   ]
  },
  {
   "cell_type": "markdown",
   "id": "3776a02e",
   "metadata": {},
   "source": [
    "La mission consiste à construire un modèle (Modèle d'apprentissage automatique; *Machine learning* ou ML) des prix immobiliers en Californie en se basant sur les données du recensement (par exemple : population, revenu, prix médian des habitations pour chaque bloc de 600 à 3000 personnes, également appelé \"distinct\").\n",
    "\n",
    "Le modèle doit être capable de prédire le prix médian des habitations dans chaque **distinct** en fonction des autres variables."
   ]
  },
  {
   "cell_type": "markdown",
   "id": "78f4cb95",
   "metadata": {},
   "source": [
    "### 1. Cerner le problème"
   ]
  },
  {
   "cell_type": "markdown",
   "id": "49bd42fc",
   "metadata": {},
   "source": [
    "Les questions à se poser :\n",
    "- Quel est l'objectif fonctionnel ?\n",
    "- Comment l'entreprise compte-t-elle utiliser ce modèle et en tirer parti ?\n",
    "- Existe-t-il une solution à l'heure actuelle ?\n",
    "\n",
    "Dans notre cas, la sortie du modèle (prédiction du prix médian des habitations dans un distinct) servira à alimenter un autre système ML. Ce système en aval utilisera les résultats de notre modèle (avec d'autres signaux) pour déterminer s'il est intéressant ou non d'investir dans un distinct donné (Analyse financière avant investissement). La prédiction va impacter le chiffre d'affaires (CA) de l'entreprise. Une équipe rassemble les informations récentes sur les distincts, estime si nécessaire le prix médian selon des règles de calcul complexes (avec un écart de 20%). D'où l'intérêt d'utiliser un modèle de prédiction."
   ]
  },
  {
   "cell_type": "markdown",
   "id": "e6a3a1fa",
   "metadata": {},
   "source": [
    "Il s'agit d'une tâche classique **d'apprentissage supervisé** (données **étiquetées** : pour chaque distinct, on a les données avec le résultat attendu : prix médian). On va prédire une valeur à l'aide de plusieurs variables : il s'agit donc d'une **régression multiple**. C'est un problème de **régression univariée** car on prédit une seule valeur pour chaque distinct. On a un jeu de données qui tient en mémoire, et pas besoin d'avoir des résultats en continu, on fera donc un **apprentissage groupé (batch learning)** pour aborder le sujet."
   ]
  },
  {
   "cell_type": "markdown",
   "id": "60888e7e",
   "metadata": {},
   "source": [
    "### 2. Comment mesurer la performance de mon modèle ?"
   ]
  },
  {
   "cell_type": "markdown",
   "id": "b96fc6a7",
   "metadata": {},
   "source": [
    "Nous utiliserons la racine carrée de l'erreur quadratique moyenne (RMSE) pour évaluer la performance de notre modèle de régression. La formule du RMSE (fonction de coût) est la suivante :\n",
    "\n",
    "$$\n",
    "RMSE(X, h) = \\sqrt{\\frac{1}{m} \\sum_{i=1}^{m} (h(x^{(i)}) - y^{(i)})^2}\n",
    "$$\n",
    "\n",
    "ou :\n",
    "- $ X $ est la matrice contenant toutes les valeurs des variables (à l'exception des étiquetes)\n",
    "- $(m)$ est le nombre d'observations dans le dataset.\n",
    "- $(x^{(i)})$ est le vecteur des caracteristiques de la i-eme instance dans le dataset.\n",
    "- $(y^{(i)}$) est l'etiquette (la valeur de sortie souhaitée) de la i-eme instance dans le dataset.\n",
    "- $(h)$ est la fonction de prediction (le modele), qui donne la prediction pour $(x^{(i)})$ (notee $(h(x^{(i)}))$).\n",
    "\n",
    "Cette formule calcule la difference entre la prediction du modele $(h(x^{(i)}))$ et la valeur reelle $(y^{(i)})$ pour chaque instance dans le dataset, eleve cette difference au carré, puis prend la moyenne de toutes ces valeurs. Enfin, elle prend la racine carrée de cette moyenne pour obtenir le $RMSE$."
   ]
  },
  {
   "cell_type": "markdown",
   "id": "79e25467",
   "metadata": {},
   "source": [
    "## Charger les données"
   ]
  },
  {
   "cell_type": "code",
   "execution_count": 27,
   "id": "f15a3796",
   "metadata": {},
   "outputs": [],
   "source": [
    "import os\n",
    "import tarfile\n",
    "import urllib\n",
    "import json\n",
    "import pandas as pd\n",
    "import logging\n",
    "\n",
    "# Configuration du logging\n",
    "logging.basicConfig(level=logging.INFO)\n",
    "logger = logging.getLogger(__name__)\n",
    "\n",
    "# Charger le fichier de configuration\n",
    "with open('conf/config.json') as f:\n",
    "    config = json.load(f)\n",
    "\n",
    "# Accéder aux variables\n",
    "DOWNLOAD_ROOT = config['DOWNLOAD_ROOT']\n",
    "HOUSING_PATH = os.path.join(\"datasets\", \"housing\")\n",
    "\n",
    "HOUSING_URL = DOWNLOAD_ROOT + \"datasets/housing/housing.tgz\"\n",
    "\n",
    "def fetch_housing_data(housing_url=HOUSING_URL, housing_path=HOUSING_PATH):\n",
    "    \"\"\"\n",
    "    Crée le dossier datasets/housing si nécessaire, télécharge le zip housing.tgz et extrait le housing.csv\n",
    "    \"\"\"\n",
    "    if not os.path.isdir(housing_path):\n",
    "        os.makedirs(housing_path)\n",
    "    tgz_path = os.path.join(housing_path, \"housing.tgz\")\n",
    "    logger.info(\"Téléchargement du fichier housing.tgz depuis %s\", housing_url)\n",
    "    urllib.request.urlretrieve(housing_url, tgz_path)\n",
    "    logger.info(\"Extraction du fichier housing.tgz\")\n",
    "    housing_tgz = tarfile.open(tgz_path)\n",
    "    housing_tgz.extractall(path=housing_path)\n",
    "    housing_tgz.close()\n",
    "    logger.info(\"Le fichier housing.tgz a été extrait avec succès\")\n",
    "\n",
    "def load_housing_data(housing_path=HOUSING_PATH):\n",
    "    \"\"\"\n",
    "    Lit le fichier csv\n",
    "    \"\"\"\n",
    "    csv_path = os.path.join(housing_path, \"housing.csv\")\n",
    "    logger.info(\"Chargement du fichier housing.csv depuis %s\", csv_path)\n",
    "    return pd.read_csv(csv_path)\n"
   ]
  },
  {
   "cell_type": "code",
   "execution_count": 29,
   "id": "f924cd27",
   "metadata": {},
   "outputs": [
    {
     "name": "stderr",
     "output_type": "stream",
     "text": [
      "INFO:__main__:Téléchargement du fichier housing.tgz depuis https://raw.githubusercontent.com/ageron/handson-ml2/master/datasets/housing/housing.tgz\n",
      "INFO:__main__:Extraction du fichier housing.tgz\n",
      "INFO:__main__:Le fichier housing.tgz a été extrait avec succès\n",
      "INFO:__main__:Chargement du fichier housing.csv depuis datasets\\housing\\housing.csv\n"
     ]
    }
   ],
   "source": [
    "# Appel des fonctions\n",
    "fetch_housing_data()\n",
    "housing_data = load_housing_data()"
   ]
  },
  {
   "cell_type": "code",
   "execution_count": 30,
   "id": "df5eb74d",
   "metadata": {},
   "outputs": [
    {
     "data": {
      "text/html": [
       "<div>\n",
       "<style scoped>\n",
       "    .dataframe tbody tr th:only-of-type {\n",
       "        vertical-align: middle;\n",
       "    }\n",
       "\n",
       "    .dataframe tbody tr th {\n",
       "        vertical-align: top;\n",
       "    }\n",
       "\n",
       "    .dataframe thead th {\n",
       "        text-align: right;\n",
       "    }\n",
       "</style>\n",
       "<table border=\"1\" class=\"dataframe\">\n",
       "  <thead>\n",
       "    <tr style=\"text-align: right;\">\n",
       "      <th></th>\n",
       "      <th>longitude</th>\n",
       "      <th>latitude</th>\n",
       "      <th>housing_median_age</th>\n",
       "      <th>total_rooms</th>\n",
       "      <th>total_bedrooms</th>\n",
       "      <th>population</th>\n",
       "      <th>households</th>\n",
       "      <th>median_income</th>\n",
       "      <th>median_house_value</th>\n",
       "      <th>ocean_proximity</th>\n",
       "    </tr>\n",
       "  </thead>\n",
       "  <tbody>\n",
       "    <tr>\n",
       "      <th>0</th>\n",
       "      <td>-122.23</td>\n",
       "      <td>37.88</td>\n",
       "      <td>41.0</td>\n",
       "      <td>880.0</td>\n",
       "      <td>129.0</td>\n",
       "      <td>322.0</td>\n",
       "      <td>126.0</td>\n",
       "      <td>8.3252</td>\n",
       "      <td>452600.0</td>\n",
       "      <td>NEAR BAY</td>\n",
       "    </tr>\n",
       "    <tr>\n",
       "      <th>1</th>\n",
       "      <td>-122.22</td>\n",
       "      <td>37.86</td>\n",
       "      <td>21.0</td>\n",
       "      <td>7099.0</td>\n",
       "      <td>1106.0</td>\n",
       "      <td>2401.0</td>\n",
       "      <td>1138.0</td>\n",
       "      <td>8.3014</td>\n",
       "      <td>358500.0</td>\n",
       "      <td>NEAR BAY</td>\n",
       "    </tr>\n",
       "    <tr>\n",
       "      <th>2</th>\n",
       "      <td>-122.24</td>\n",
       "      <td>37.85</td>\n",
       "      <td>52.0</td>\n",
       "      <td>1467.0</td>\n",
       "      <td>190.0</td>\n",
       "      <td>496.0</td>\n",
       "      <td>177.0</td>\n",
       "      <td>7.2574</td>\n",
       "      <td>352100.0</td>\n",
       "      <td>NEAR BAY</td>\n",
       "    </tr>\n",
       "    <tr>\n",
       "      <th>3</th>\n",
       "      <td>-122.25</td>\n",
       "      <td>37.85</td>\n",
       "      <td>52.0</td>\n",
       "      <td>1274.0</td>\n",
       "      <td>235.0</td>\n",
       "      <td>558.0</td>\n",
       "      <td>219.0</td>\n",
       "      <td>5.6431</td>\n",
       "      <td>341300.0</td>\n",
       "      <td>NEAR BAY</td>\n",
       "    </tr>\n",
       "    <tr>\n",
       "      <th>4</th>\n",
       "      <td>-122.25</td>\n",
       "      <td>37.85</td>\n",
       "      <td>52.0</td>\n",
       "      <td>1627.0</td>\n",
       "      <td>280.0</td>\n",
       "      <td>565.0</td>\n",
       "      <td>259.0</td>\n",
       "      <td>3.8462</td>\n",
       "      <td>342200.0</td>\n",
       "      <td>NEAR BAY</td>\n",
       "    </tr>\n",
       "  </tbody>\n",
       "</table>\n",
       "</div>"
      ],
      "text/plain": [
       "   longitude  latitude  housing_median_age  total_rooms  total_bedrooms  \\\n",
       "0    -122.23     37.88                41.0        880.0           129.0   \n",
       "1    -122.22     37.86                21.0       7099.0          1106.0   \n",
       "2    -122.24     37.85                52.0       1467.0           190.0   \n",
       "3    -122.25     37.85                52.0       1274.0           235.0   \n",
       "4    -122.25     37.85                52.0       1627.0           280.0   \n",
       "\n",
       "   population  households  median_income  median_house_value ocean_proximity  \n",
       "0       322.0       126.0         8.3252            452600.0        NEAR BAY  \n",
       "1      2401.0      1138.0         8.3014            358500.0        NEAR BAY  \n",
       "2       496.0       177.0         7.2574            352100.0        NEAR BAY  \n",
       "3       558.0       219.0         5.6431            341300.0        NEAR BAY  \n",
       "4       565.0       259.0         3.8462            342200.0        NEAR BAY  "
      ]
     },
     "execution_count": 30,
     "metadata": {},
     "output_type": "execute_result"
    }
   ],
   "source": [
    "housing_data.head()"
   ]
  },
  {
   "cell_type": "code",
   "execution_count": 31,
   "id": "cac83688",
   "metadata": {},
   "outputs": [
    {
     "name": "stdout",
     "output_type": "stream",
     "text": [
      "<class 'pandas.core.frame.DataFrame'>\n",
      "RangeIndex: 20640 entries, 0 to 20639\n",
      "Data columns (total 10 columns):\n",
      " #   Column              Non-Null Count  Dtype  \n",
      "---  ------              --------------  -----  \n",
      " 0   longitude           20640 non-null  float64\n",
      " 1   latitude            20640 non-null  float64\n",
      " 2   housing_median_age  20640 non-null  float64\n",
      " 3   total_rooms         20640 non-null  float64\n",
      " 4   total_bedrooms      20433 non-null  float64\n",
      " 5   population          20640 non-null  float64\n",
      " 6   households          20640 non-null  float64\n",
      " 7   median_income       20640 non-null  float64\n",
      " 8   median_house_value  20640 non-null  float64\n",
      " 9   ocean_proximity     20640 non-null  object \n",
      "dtypes: float64(9), object(1)\n",
      "memory usage: 1.6+ MB\n"
     ]
    }
   ],
   "source": [
    "housing_data.info()"
   ]
  },
  {
   "cell_type": "code",
   "execution_count": null,
   "id": "c1d71fb7",
   "metadata": {},
   "outputs": [],
   "source": []
  }
 ],
 "metadata": {
  "kernelspec": {
   "display_name": "Python 3 (ipykernel)",
   "language": "python",
   "name": "python3"
  },
  "language_info": {
   "codemirror_mode": {
    "name": "ipython",
    "version": 3
   },
   "file_extension": ".py",
   "mimetype": "text/x-python",
   "name": "python",
   "nbconvert_exporter": "python",
   "pygments_lexer": "ipython3",
   "version": "3.9.13"
  }
 },
 "nbformat": 4,
 "nbformat_minor": 5
}
