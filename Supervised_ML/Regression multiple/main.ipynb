{
 "cells": [
  {
   "cell_type": "markdown",
   "id": "0b2c88e5",
   "metadata": {},
   "source": [
    "# Projet : *California Housing Prices* (Prix des logements en Californie)"
   ]
  },
  {
   "cell_type": "code",
   "execution_count": 1,
   "id": "05f0eb2a",
   "metadata": {},
   "outputs": [],
   "source": [
    "# pour utiliser des formules mathématiques en markdown\n",
    "#!pip install -U sympy"
   ]
  },
  {
   "cell_type": "markdown",
   "id": "c73d8a0d",
   "metadata": {},
   "source": [
    "## Contexte & Data"
   ]
  },
  {
   "cell_type": "markdown",
   "id": "d81031e1",
   "metadata": {},
   "source": [
    "Nous utilisons le jeu de données California Housing Prices de l'entrepôt StatLib. Ces données proviennent du recensement californien de 1990 (bien sûr, elles ne sont pas actuelles)."
   ]
  },
  {
   "cell_type": "markdown",
   "id": "14cd6590",
   "metadata": {},
   "source": [
    "## Prendre du recul sur l'ensemble"
   ]
  },
  {
   "cell_type": "markdown",
   "id": "3776a02e",
   "metadata": {},
   "source": [
    "La mission consiste à construire un modèle (Modèle d'apprentissage automatique; *Machine learning* ou ML) des prix immobiliers en Californie en se basant sur les données du recensement (par exemple : population, revenu, prix médian des habitations pour chaque bloc de 600 à 3000 personnes, également appelé \"distinct\").\n",
    "\n",
    "Le modèle doit être capable de prédire le prix médian des habitations dans chaque **distinct** en fonction des autres variables."
   ]
  },
  {
   "cell_type": "markdown",
   "id": "78f4cb95",
   "metadata": {},
   "source": [
    "### 1. Cerner le problème"
   ]
  },
  {
   "cell_type": "markdown",
   "id": "49bd42fc",
   "metadata": {},
   "source": [
    "Les questions à se poser :\n",
    "- Quel est l'objectif fonctionnel ?\n",
    "- Comment l'entreprise compte-t-elle utiliser ce modèle et en tirer parti ?\n",
    "- Existe-t-il une solution à l'heure actuelle ?\n",
    "\n",
    "Dans notre cas, la sortie du modèle (prédiction du prix médian des habitations dans un distinct) servira à alimenter un autre système ML. Ce système en aval utilisera les résultats de notre modèle (avec d'autres signaux) pour déterminer s'il est intéressant ou non d'investir dans un distinct donné (Analyse financière avant investissement). La prédiction va impacter le chiffre d'affaires (CA) de l'entreprise. Une équipe rassemble les informations récentes sur les distincts, estime si nécessaire le prix médian selon des règles de calcul complexes (avec un écart de 20%). D'où l'intérêt d'utiliser un modèle de prédiction."
   ]
  },
  {
   "cell_type": "markdown",
   "id": "e6a3a1fa",
   "metadata": {},
   "source": [
    "Il s'agit d'une tâche classique **d'apprentissage supervisé** (données **étiquetées** : pour chaque distinct, on a les données avec le résultat attendu : prix médian). On va prédire une valeur à l'aide de plusieurs variables : il s'agit donc d'une **régression multiple**. C'est un problème de **régression univariée** car on prédit une seule valeur pour chaque distinct. On a un jeu de données qui tient en mémoire, et pas besoin d'avoir des résultats en continu, on fera donc un **apprentissage groupé (batch learning)** pour aborder le sujet."
   ]
  },
  {
   "cell_type": "markdown",
   "id": "60888e7e",
   "metadata": {},
   "source": [
    "### 2. Comment mesurer la performance de mon modèle ?"
   ]
  },
  {
   "cell_type": "markdown",
   "id": "b96fc6a7",
   "metadata": {},
   "source": [
    "Nous utiliserons la racine carrée de l'erreur quadratique moyenne (RMSE) pour évaluer la performance de notre modèle de régression. La formule du RMSE (fonction de coût) est la suivante :\n",
    "\n",
    "$$\n",
    "RMSE(X, h) = \\sqrt{\\frac{1}{m} \\sum_{i=1}^{m} (h(x^{(i)}) - y^{(i)})^2}\n",
    "$$\n",
    "\n",
    "ou :\n",
    "- $ X $ est la matrice contenant toutes les valeurs des variables (à l'exception des étiquetes)\n",
    "- $(m)$ est le nombre d'observations dans le dataset.\n",
    "- $(x^{(i)})$ est le vecteur des caracteristiques de la i-eme instance dans le dataset.\n",
    "- $(y^{(i)}$) est l'etiquette (la valeur de sortie souhaitée) de la i-eme instance dans le dataset.\n",
    "- $(h)$ est la fonction de prediction (le modele), qui donne la prediction pour $(x^{(i)})$ (notee $(h(x^{(i)}))$).\n",
    "\n",
    "Cette formule calcule la difference entre la prediction du modele $(h(x^{(i)}))$ et la valeur reelle $(y^{(i)})$ pour chaque instance dans le dataset, eleve cette difference au carré, puis prend la moyenne de toutes ces valeurs. Enfin, elle prend la racine carrée de cette moyenne pour obtenir le $RMSE$."
   ]
  },
  {
   "cell_type": "markdown",
   "id": "36750943",
   "metadata": {},
   "source": [
    "## charger les données"
   ]
  },
  {
   "cell_type": "code",
   "execution_count": null,
   "id": "87b1b9d9",
   "metadata": {},
   "outputs": [],
   "source": []
  }
 ],
 "metadata": {
  "kernelspec": {
   "display_name": "Python 3 (ipykernel)",
   "language": "python",
   "name": "python3"
  },
  "language_info": {
   "codemirror_mode": {
    "name": "ipython",
    "version": 3
   },
   "file_extension": ".py",
   "mimetype": "text/x-python",
   "name": "python",
   "nbconvert_exporter": "python",
   "pygments_lexer": "ipython3",
   "version": "3.9.13"
  }
 },
 "nbformat": 4,
 "nbformat_minor": 5
}
