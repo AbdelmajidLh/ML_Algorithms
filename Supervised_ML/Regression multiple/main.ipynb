{
 "cells": [
  {
   "cell_type": "markdown",
   "id": "df73d355",
   "metadata": {},
   "source": [
    "# Projet : *California Housing Prices* (Prix des logements en Californie)"
   ]
  },
  {
   "cell_type": "markdown",
   "id": "d950a579",
   "metadata": {},
   "source": [
    "## Contexte & Data"
   ]
  },
  {
   "cell_type": "markdown",
   "id": "0c063482",
   "metadata": {},
   "source": [
    "Nous utilisons le jeu de données California Housing Prices de l'entrepôt StatLib. Ces données proviennent du recensement californien de 1990 (bien sûr, elles ne sont pas actuelles)."
   ]
  },
  {
   "cell_type": "markdown",
   "id": "b8b1768b",
   "metadata": {},
   "source": [
    "## Prendre du recul sur l'ensemble"
   ]
  },
  {
   "cell_type": "markdown",
   "id": "c92281a7",
   "metadata": {},
   "source": [
    "La mission consiste à construire un modèle (Modèle d'apprentissage automatique; *Machine learning* ou ML) des prix immobiliers en Californie en se basant sur les données du recensement (par exemple : population, revenu, prix médian des habitations pour chaque bloc de 600 à 3000 personnes, également appelé \"distinct\").\n",
    "\n",
    "Le modèle doit être capable de prédire le prix médian des habitations dans chaque **distinct** en fonction des autres variables."
   ]
  },
  {
   "cell_type": "markdown",
   "id": "61e561b8",
   "metadata": {},
   "source": [
    "### 1. Cerner le problème"
   ]
  },
  {
   "cell_type": "markdown",
   "id": "af4bad8c",
   "metadata": {},
   "source": [
    "Les questions à se poser :\n",
    "- Quel est l'objectif fonctionnel ?\n",
    "- Comment l'entreprise compte-t-elle utiliser ce modèle et en tirer parti ?\n",
    "- Existe-t-il une solution à l'heure actuelle ?\n",
    "\n",
    "Dans notre cas, la sortie du modèle (prédiction du prix médian des habitations dans un distinct) servira à alimenter un autre système ML. Ce système en aval utilisera les résultats de notre modèle (avec d'autres signaux) pour déterminer s'il est intéressant ou non d'investir dans un distinct donné (Analyse financière avant investissement). La prédiction va impacter le chiffre d'affaires (CA) de l'entreprise. Une équipe rassemble les informations récentes sur les distincts, estime si nécessaire le prix médian selon des règles de calcul complexes (avec un écart de 20%). D'où l'intérêt d'utiliser un modèle de prédiction."
   ]
  },
  {
   "cell_type": "markdown",
   "id": "9c296522",
   "metadata": {},
   "source": [
    "Il s'agit d'une tâche classique **d'apprentissage supervisé** (données **étiquetées** : pour chaque distinct, on a les données avec le résultat attendu : prix médian). On va prédire une valeur à l'aide de plusieurs variables : il s'agit donc d'une **régression multiple**. C'est un problème de **régression univariée** car on prédit une seule valeur pour chaque distinct. On a un jeu de données qui tient en mémoire, et pas besoin d'avoir des résultats en continu, on fera donc un **apprentissage groupé (batch learning)** pour aborder le sujet."
   ]
  },
  {
   "cell_type": "markdown",
   "id": "223d9aca",
   "metadata": {},
   "source": [
    "### 1. Comment mesurer la performance de mon modèle ?"
   ]
  },
  {
   "cell_type": "code",
   "execution_count": null,
   "id": "312c5734",
   "metadata": {},
   "outputs": [],
   "source": []
  }
 ],
 "metadata": {
  "kernelspec": {
   "display_name": "Python 3 (ipykernel)",
   "language": "python",
   "name": "python3"
  },
  "language_info": {
   "codemirror_mode": {
    "name": "ipython",
    "version": 3
   },
   "file_extension": ".py",
   "mimetype": "text/x-python",
   "name": "python",
   "nbconvert_exporter": "python",
   "pygments_lexer": "ipython3",
   "version": "3.9.13"
  }
 },
 "nbformat": 4,
 "nbformat_minor": 5
}
