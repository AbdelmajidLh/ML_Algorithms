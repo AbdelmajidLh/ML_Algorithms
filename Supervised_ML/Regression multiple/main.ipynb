{
 "cells": [
  {
   "cell_type": "markdown",
   "id": "1ff84665",
   "metadata": {},
   "source": [
    "# Projet California Housing Prices (Prix des logements en Californie)"
   ]
  },
  {
   "cell_type": "markdown",
   "id": "7f1bf94a",
   "metadata": {},
   "source": [
    "## Contexte & Data"
   ]
  },
  {
   "cell_type": "markdown",
   "id": "7986cadf",
   "metadata": {},
   "source": [
    "Nous utilisons le dataset California Housing Prices de l'entrepôt StatLib. \n",
    "C'est un jeu de données est constitué de données du recensement californien de 1990 (biensur ce n'est pas d'actualité)."
   ]
  },
  {
   "cell_type": "markdown",
   "id": "36db58de",
   "metadata": {},
   "source": [
    "## Prendre du rucul sur l'ensemble"
   ]
  },
  {
   "cell_type": "markdown",
   "id": "77f7909b",
   "metadata": {},
   "source": [
    "La mission conciste à construire un modèle des prix immobilières en Californie en se basant sur les données du recensement (ex. population, revenu, prix médian des habitations pour chaque block (600 à 3000 personnes). Appelés aussi \"`distincts`\". \n",
    "\n",
    "Le modèle doit être capable de prédire le `prix médian` des habitations dans chaque **distinct** en fonction des autres variables."
   ]
  },
  {
   "cell_type": "markdown",
   "id": "3c2726c2",
   "metadata": {},
   "source": [
    "### 1. Cerner le problème"
   ]
  },
  {
   "cell_type": "code",
   "execution_count": null,
   "id": "e997a92a",
   "metadata": {},
   "outputs": [],
   "source": []
  }
 ],
 "metadata": {
  "kernelspec": {
   "display_name": "Python 3 (ipykernel)",
   "language": "python",
   "name": "python3"
  },
  "language_info": {
   "codemirror_mode": {
    "name": "ipython",
    "version": 3
   },
   "file_extension": ".py",
   "mimetype": "text/x-python",
   "name": "python",
   "nbconvert_exporter": "python",
   "pygments_lexer": "ipython3",
   "version": "3.9.13"
  }
 },
 "nbformat": 4,
 "nbformat_minor": 5
}
